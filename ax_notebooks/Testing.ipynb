{
 "cells": [
  {
   "cell_type": "code",
   "execution_count": 18,
   "metadata": {},
   "outputs": [
    {
     "data": {
      "text/plain": [
       "<IB connected to 127.0.0.1:7497 clientId=13>"
      ]
     },
     "execution_count": 18,
     "metadata": {},
     "output_type": "execute_result"
    }
   ],
   "source": [
    "from ib_insync import *\n",
    "util.startLoop()\n",
    "\n",
    "ib = IB()\n",
    "ib.connect('127.0.0.1', 7497, clientId=13)\n",
    "# util.logToConsole()"
   ]
  },
  {
   "cell_type": "code",
   "execution_count": 19,
   "metadata": {},
   "outputs": [],
   "source": [
    "contract = Forex('EURUSD')\n",
    "ib.qualifyContracts(contract)\n",
    "\n",
    "#order = LimitOrder('SELL', 20000, 1.11)\n",
    "#order = Order('SELL', 20000, 1.11, transmit False)\n",
    "order2 = Order(orderType='MKT', action='SELL', totalQuantity=20000, transmit=False)"
   ]
  },
  {
   "cell_type": "code",
   "execution_count": 20,
   "metadata": {},
   "outputs": [],
   "source": [
    "trade = ib.placeOrder(contract, order2)"
   ]
  },
  {
   "cell_type": "code",
   "execution_count": 17,
   "metadata": {},
   "outputs": [
    {
     "data": {
      "text/plain": [
       "False"
      ]
     },
     "execution_count": 17,
     "metadata": {},
     "output_type": "execute_result"
    }
   ],
   "source": [
    "ib.isConnected()"
   ]
  },
  {
   "cell_type": "code",
   "execution_count": 21,
   "metadata": {},
   "outputs": [
    {
     "data": {
      "text/plain": [
       "[Forex('EURUSD', conId=12087792, exchange='IDEALPRO', localSymbol='EUR.USD', tradingClass='EUR.USD')]"
      ]
     },
     "execution_count": 21,
     "metadata": {},
     "output_type": "execute_result"
    }
   ],
   "source": []
  },
  {
   "cell_type": "code",
   "execution_count": 35,
   "metadata": {},
   "outputs": [
    {
     "data": {
      "text/plain": [
       "[Contract(secType='STK', conId=265598, symbol='AAPL', exchange='SMART', primaryExchange='NASDAQ', currency='USD', localSymbol='AAPL', tradingClass='NMS')]"
      ]
     },
     "execution_count": 35,
     "metadata": {},
     "output_type": "execute_result"
    }
   ],
   "source": [
    "contract = Contract(secIdType='ISIN', secId='US0378331005', exchange='SMART', currency='USD')\n",
    "ib.qualifyContracts(contract)"
   ]
  },
  {
   "cell_type": "code",
   "execution_count": 45,
   "metadata": {},
   "outputs": [],
   "source": [
    "notional = 20000\n",
    "contract_price = 172.00\n",
    "quantity = notional / contract_price\n",
    "\n",
    "quantity = round(quantity, ndigits=0)\n",
    "\n",
    "#order = Order(orderType='MKT', action='BUY', totalQuantity=quantity, transmit=False)\n",
    "order = Order(orderType='MKT', action='BUY', totalQuantity=quantity, transmit=True)"
   ]
  },
  {
   "cell_type": "code",
   "execution_count": 46,
   "metadata": {},
   "outputs": [],
   "source": [
    "trade = ib.placeOrder(contract, order)"
   ]
  },
  {
   "cell_type": "code",
   "execution_count": 47,
   "metadata": {},
   "outputs": [
    {
     "data": {
      "text/plain": [
       "[Position(account='DU5097959', contract=Forex('EURUSD', conId=12087792, localSymbol='EUR.USD', tradingClass='EUR.USD'), position=-1900.0, avgCost=1.1437637)]"
      ]
     },
     "execution_count": 47,
     "metadata": {},
     "output_type": "execute_result"
    }
   ],
   "source": [
    "ib.positions()\n"
   ]
  },
  {
   "cell_type": "code",
   "execution_count": 49,
   "metadata": {},
   "outputs": [],
   "source": [
    "orderbook = ib.orders()"
   ]
  },
  {
   "cell_type": "code",
   "execution_count": 50,
   "metadata": {},
   "outputs": [],
   "source": [
    "import pandas as pd\n"
   ]
  },
  {
   "cell_type": "code",
   "execution_count": 54,
   "metadata": {},
   "outputs": [
    {
     "name": "stdout",
     "output_type": "stream",
     "text": [
      "Order(permId=1120856363, action='SELL', orderType='MKT', lmtPrice=0.0, auxPrice=0.0, tif='DAY', ocaType=3, rule80A='0', openClose='', volatilityType=0, deltaNeutralOrderType='None', referencePriceType=0, account='DU5097959', clearingIntent='IB', cashQty=0.0, dontUseAutoPriceForHedge=True, filledQuantity=100.0, refFuturesConId=2147483647, shareholder='Not an insider or substantial shareholder')\n",
      "Order(permId=1179744886, action='SELL', orderType='LMT', lmtPrice=1.11, auxPrice=0.0, tif='DAY', ocaType=3, trailStopPrice=0.1100000000000001, volatilityType=0, deltaNeutralOrderType='None', referencePriceType=0, account='DU5097959', clearingIntent='IB', cashQty=0.0, dontUseAutoPriceForHedge=True, filledQuantity=20000.0, refFuturesConId=2147483647, shareholder='Not an insider or substantial shareholder', parentPermId=9223372036854775807)\n",
      "Order(permId=1120856359, action='BUY', orderType='MKT', lmtPrice=0.0, auxPrice=0.0, tif='DAY', ocaType=3, rule80A='0', openClose='', volatilityType=0, deltaNeutralOrderType='None', referencePriceType=0, account='DU5097959', clearingIntent='IB', cashQty=0.0, dontUseAutoPriceForHedge=True, filledQuantity=100.0, refFuturesConId=2147483647, shareholder='Not an insider or substantial shareholder')\n",
      "Order(permId=1179744877, action='SELL', orderType='LMT', lmtPrice=1.11, auxPrice=0.0, tif='DAY', ocaType=3, trailStopPrice=0.1100000000000001, volatilityType=0, deltaNeutralOrderType='None', referencePriceType=0, account='DU5097959', clearingIntent='IB', cashQty=0.0, dontUseAutoPriceForHedge=True, filledQuantity=20000.0, refFuturesConId=2147483647, shareholder='Not an insider or substantial shareholder', parentPermId=9223372036854775807)\n",
      "Order(permId=1179744879, action='BUY', orderType='MKT', lmtPrice=0.0, auxPrice=0.0, tif='DAY', ocaType=3, trailStopPrice=2.14385, openClose='', volatilityType=0, deltaNeutralOrderType='None', referencePriceType=0, account='DU5097959', clearingIntent='IB', cashQty=0.0, dontUseAutoPriceForHedge=True, filledQuantity=100.0, refFuturesConId=2147483647, shareholder='Not an insider or substantial shareholder', parentPermId=9223372036854775807)\n",
      "Order(permId=1179744878, action='BUY', totalQuantity=20000.0, orderType='LMT', lmtPrice=0.1, auxPrice=0.0, tif='DAY', ocaType=3, volatilityType=0, deltaNeutralOrderType='None', referencePriceType=0, account='DU5097959', clearingIntent='IB', cashQty=0.0, dontUseAutoPriceForHedge=True, filledQuantity=0.0, refFuturesConId=2147483647, shareholder='Not an insider or substantial shareholder', parentPermId=9223372036854775807)\n",
      "Order(orderId=17, clientId=13, action='SELL', totalQuantity=20000, orderType='MKT', transmit=False)\n",
      "Order(orderId=26, clientId=13, action='BUY', totalQuantity=116.27906976744185, orderType='MKT', transmit=False)\n",
      "Order(orderId=27, clientId=13, action='BUY', totalQuantity=116.27906976744185, orderType='MKT', transmit=False)\n",
      "Order(orderId=28, clientId=13, action='BUY', totalQuantity=116.0, orderType='MKT', transmit=False)\n",
      "Order(orderId=29, clientId=13, permId=1179744911, action='BUY', totalQuantity=116.0, orderType='MKT', lmtPrice=0.0, auxPrice=0.0)\n"
     ]
    },
    {
     "data": {
      "text/plain": [
       "[None, None, None, None, None, None, None, None, None, None, None]"
      ]
     },
     "execution_count": 54,
     "metadata": {},
     "output_type": "execute_result"
    }
   ],
   "source": [
    "[print(o) for o in orderbook]\n"
   ]
  },
  {
   "cell_type": "code",
   "execution_count": 55,
   "metadata": {},
   "outputs": [
    {
     "data": {
      "text/plain": [
       "Order(permId=1179744886, action='SELL', orderType='LMT', lmtPrice=1.11, auxPrice=0.0, tif='DAY', ocaType=3, trailStopPrice=0.1100000000000001, volatilityType=0, deltaNeutralOrderType='None', referencePriceType=0, account='DU5097959', clearingIntent='IB', cashQty=0.0, dontUseAutoPriceForHedge=True, filledQuantity=20000.0, refFuturesConId=2147483647, shareholder='Not an insider or substantial shareholder', parentPermId=9223372036854775807)"
      ]
     },
     "execution_count": 55,
     "metadata": {},
     "output_type": "execute_result"
    }
   ],
   "source": [
    "\n",
    "orderbook[1]"
   ]
  },
  {
   "cell_type": "code",
   "execution_count": 60,
   "metadata": {},
   "outputs": [
    {
     "name": "stdout",
     "output_type": "stream",
     "text": [
      "                                                   permId action orderType  \\\n",
      "Order(permId=1120856363, action='SELL', orderTy...    NaN    NaN       NaN   \n",
      "Order(permId=1179744886, action='SELL', orderTy...    NaN    NaN       NaN   \n",
      "Order(permId=1120856359, action='BUY', orderTyp...    NaN    NaN       NaN   \n",
      "Order(permId=1179744877, action='SELL', orderTy...    NaN    NaN       NaN   \n",
      "Order(permId=1179744879, action='BUY', orderTyp...    NaN    NaN       NaN   \n",
      "Order(permId=1179744878, action='BUY', totalQua...    NaN    NaN       NaN   \n",
      "Order(orderId=17, clientId=13, action='SELL', t...    NaN    NaN       NaN   \n",
      "Order(orderId=26, clientId=13, action='BUY', to...    NaN    NaN       NaN   \n",
      "Order(orderId=27, clientId=13, action='BUY', to...    NaN    NaN       NaN   \n",
      "Order(orderId=28, clientId=13, action='BUY', to...    NaN    NaN       NaN   \n",
      "Order(orderId=29, clientId=13, permId=117974491...    NaN    NaN       NaN   \n",
      "\n",
      "                                                   lmtPrice  \n",
      "Order(permId=1120856363, action='SELL', orderTy...      NaN  \n",
      "Order(permId=1179744886, action='SELL', orderTy...      NaN  \n",
      "Order(permId=1120856359, action='BUY', orderTyp...      NaN  \n",
      "Order(permId=1179744877, action='SELL', orderTy...      NaN  \n",
      "Order(permId=1179744879, action='BUY', orderTyp...      NaN  \n",
      "Order(permId=1179744878, action='BUY', totalQua...      NaN  \n",
      "Order(orderId=17, clientId=13, action='SELL', t...      NaN  \n",
      "Order(orderId=26, clientId=13, action='BUY', to...      NaN  \n",
      "Order(orderId=27, clientId=13, action='BUY', to...      NaN  \n",
      "Order(orderId=28, clientId=13, action='BUY', to...      NaN  \n",
      "Order(orderId=29, clientId=13, permId=117974491...      NaN  \n"
     ]
    },
    {
     "name": "stderr",
     "output_type": "stream",
     "text": [
      "Peer closed connection.\n"
     ]
    }
   ],
   "source": [
    "df = pd.DataFrame(\n",
    "    index=[o for o in orderbook],\n",
    "    columns=['permId', 'action', 'orderType', 'lmtPrice'])\n",
    "\n",
    "print(df)"
   ]
  },
  {
   "cell_type": "code",
   "execution_count": null,
   "metadata": {},
   "outputs": [],
   "source": []
  }
 ],
 "metadata": {
  "interpreter": {
   "hash": "c5e48f84046969b800ff52f6d80523bcd1ca3fb1a99f1449e4197bf6c73dc096"
  },
  "kernelspec": {
   "display_name": "Python 3.8.3 ('base')",
   "language": "python",
   "name": "python3"
  },
  "language_info": {
   "codemirror_mode": {
    "name": "ipython",
    "version": 3
   },
   "file_extension": ".py",
   "mimetype": "text/x-python",
   "name": "python",
   "nbconvert_exporter": "python",
   "pygments_lexer": "ipython3",
   "version": "3.8.3"
  },
  "orig_nbformat": 4
 },
 "nbformat": 4,
 "nbformat_minor": 2
}
